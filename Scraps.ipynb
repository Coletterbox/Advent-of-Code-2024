{
 "cells": [
  {
   "cell_type": "markdown",
   "metadata": {},
   "source": [
    "(Troubleshooting other people's solutions)"
   ]
  },
  {
   "cell_type": "code",
   "execution_count": 11,
   "metadata": {},
   "outputs": [],
   "source": [
    "def convert(string_list):\n",
    "    num_list = []\n",
    "    for string_num in string_list:\n",
    "        num_list.append(int(string_num))\n",
    "        \n",
    "    return num_list"
   ]
  },
  {
   "cell_type": "markdown",
   "metadata": {},
   "source": [
    "wasn't converting to int before sorting - added fix above"
   ]
  },
  {
   "cell_type": "code",
   "execution_count": 12,
   "metadata": {
    "scrolled": false
   },
   "outputs": [
    {
     "name": "stdout",
     "output_type": "stream",
     "text": [
      "516\n"
     ]
    }
   ],
   "source": [
    "safeRecords = 0\n",
    "file = r\"Day 2 Input.txt\"\n",
    "\n",
    "def increasing(lst):\n",
    "    return all(lst[i] < lst[i + 1] for i in range(len(lst) - 1))\n",
    "\n",
    "def decreasing(lst):\n",
    "    return all(lst[i] > lst[i + 1] for i in range(len(lst) - 1))\n",
    "\n",
    "\n",
    "\n",
    "\n",
    "\n",
    "def check(temp):\n",
    "    \n",
    "    temp = convert(temp)\n",
    "    \n",
    "    \n",
    "    global safeRecords\n",
    "    safe = True\n",
    "    check1 = increasing(temp)\n",
    "    check2 = decreasing(temp)\n",
    "    if check1 and check2:\n",
    "        safe = False\n",
    "    elif not check1 and not check2:\n",
    "        safe = False\n",
    "\n",
    "    if safe:\n",
    "        for i in range(len(temp) - 1):           \n",
    "            diff = abs(int(temp[i]) - int(temp[i + 1]))\n",
    "            if diff > 3 or diff < 1:\n",
    "                safe = False\n",
    "\n",
    "    if safe:\n",
    "        safeRecords += 1\n",
    "#         print(temp)\n",
    "\n",
    "\n",
    "with open(file, 'r') as file:\n",
    "    for line in file:\n",
    "        line = line.strip()\n",
    "        temp = line.split(' ')   \n",
    "#         print(temp)\n",
    "        check(temp)\n",
    "    \n",
    "print(safeRecords)"
   ]
  },
  {
   "cell_type": "markdown",
   "metadata": {},
   "source": [
    "was missing a condition (abs(report[i] - report[i + 1]) < 1)"
   ]
  },
  {
   "cell_type": "code",
   "execution_count": 14,
   "metadata": {},
   "outputs": [
    {
     "name": "stdout",
     "output_type": "stream",
     "text": [
      "516\n"
     ]
    }
   ],
   "source": [
    "safe_reports = 0\n",
    "counter = 0\n",
    "with open(\"Day 2 Input.txt\") as input:\n",
    "    for report in input.readlines():\n",
    "        # __import__('pdb').set_trace()\n",
    "        safe = True\n",
    "        asc = False\n",
    "        desc = False\n",
    "        report = [int(x) for x in report.strip().split(' ')]\n",
    "\n",
    "        for i in range(len(report) - 1):\n",
    "            if report[i] > report[i + 1]:\n",
    "                asc = True\n",
    "            else:\n",
    "                desc = True\n",
    "\n",
    "            if abs(report[i] - report[i + 1]) > 3 or (asc and desc) or abs(report[i] - report[i + 1]) < 1:\n",
    "                safe = False\n",
    "                break\n",
    "\n",
    "        if safe:\n",
    "#             print(report)\n",
    "            safe_reports += 1\n",
    "\n",
    "    print(safe_reports)"
   ]
  },
  {
   "cell_type": "code",
   "execution_count": null,
   "metadata": {},
   "outputs": [],
   "source": []
  }
 ],
 "metadata": {
  "kernelspec": {
   "display_name": "Python 3",
   "language": "python",
   "name": "python3"
  },
  "language_info": {
   "codemirror_mode": {
    "name": "ipython",
    "version": 3
   },
   "file_extension": ".py",
   "mimetype": "text/x-python",
   "name": "python",
   "nbconvert_exporter": "python",
   "pygments_lexer": "ipython3",
   "version": "3.8.5"
  }
 },
 "nbformat": 4,
 "nbformat_minor": 4
}
