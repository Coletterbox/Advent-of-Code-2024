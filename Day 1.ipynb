{
 "cells": [
  {
   "cell_type": "code",
   "execution_count": 1,
   "metadata": {},
   "outputs": [],
   "source": [
    "# read input by line\n",
    "# split line by space; write first and second numbers to separate lists\n",
    "# sort lists\n",
    "# loop through both lists and calculate differences; add differences"
   ]
  },
  {
   "cell_type": "code",
   "execution_count": 16,
   "metadata": {},
   "outputs": [
    {
     "name": "stdout",
     "output_type": "stream",
     "text": [
      "['80784   47731\\n', '81682   36089\\n', '22289   41038\\n', '79525   17481\\n', '62156   70590\\n', '87975   21561\\n', '54635   59542\\n', '43393   99451\\n', '45310   59542\\n', '18324   92078\\n', '36887   79481\\n', '35723   48782\\n', '78420   35875\\n', '93307   52649\\n', '77342   80601\\n', '69125   47895\\n', '37292   20025\\n', '45553   59542\\n', '27412   30010\\n', '67708   70822\\n', '92078   91109\\n', '48367   87581\\n', '26852   30538\\n', '42123   17859\\n', '20067   87581\\n', '20239   32262\\n', '50660   73585\\n', '46240   45533\\n', '29502   46131\\n', '77080   36089\\n', '64180   14043\\n', '74942   72085\\n', '73979   22860\\n', '47999   41397\\n', '36014   35101\\n', '39827   32262\\n', '81418   86581\\n', '47467   14538\\n', '65923   46584\\n', '95054   17500\\n', '59680   37730\\n', '94609   19539\\n', '33451   39467\\n', '69173   12422\\n', '31769   34255\\n', '85180   29056\\n', '82104   52296\\n', '90955   38171\\n', '83927   70590\\n', '59455   17306\\n']\n"
     ]
    }
   ],
   "source": [
    "input_file = open(\"Day 1 Input.txt\", \"r\")\n",
    "input_list = input_file.readlines()\n",
    "print(input_list[0:50])"
   ]
  },
  {
   "cell_type": "code",
   "execution_count": 23,
   "metadata": {},
   "outputs": [
    {
     "name": "stdout",
     "output_type": "stream",
     "text": [
      "['80784', '81682', '22289', '79525', '62156', '87975', '54635', '43393', '45310', '18324', '36887', '35723', '78420', '93307', '77342', '69125', '37292', '45553', '27412', '67708']\n",
      "['47731', '36089', '41038', '17481', '70590', '21561', '59542', '99451', '59542', '92078', '79481', '48782', '35875', '52649', '80601', '47895', '20025', '59542', '30010', '70822']\n"
     ]
    }
   ],
   "source": [
    "list_1 = []\n",
    "list_2 = []\n",
    "\n",
    "for line in input_list:\n",
    "    line = line.replace(\"\\n\", \"\")\n",
    "#     print(line)\n",
    "    \n",
    "    list_1.append(line.split(\"   \")[0])\n",
    "    list_2.append(line.split(\"   \")[1])\n",
    "    \n",
    "    \n",
    "# print(input_list[0:10])\n",
    "print(list_1[0:20])\n",
    "print(list_2[0:20])"
   ]
  },
  {
   "cell_type": "code",
   "execution_count": 27,
   "metadata": {},
   "outputs": [
    {
     "name": "stdout",
     "output_type": "stream",
     "text": [
      "[10112, 10245, 10252, 10333, 10481, 10526, 10531, 10846, 10937, 10989, 11003, 11205, 11269, 11337, 11381, 11389, 11458, 11708, 11717, 11800]\n"
     ]
    }
   ],
   "source": [
    "def sort_list(input_list):\n",
    "    \n",
    "    int_list = []\n",
    "    \n",
    "    for line in input_list:\n",
    "        int_list.append(int(line))\n",
    "        \n",
    "    int_list.sort()\n",
    "    \n",
    "    return int_list\n",
    "\n",
    "sorted_list_1 = sort_list(list_1)\n",
    "sorted_list_2 = sort_list(list_2)\n",
    "\n",
    "print(sorted_list_1[0:20])"
   ]
  },
  {
   "cell_type": "code",
   "execution_count": 28,
   "metadata": {},
   "outputs": [
    {
     "data": {
      "text/plain": [
       "1530215"
      ]
     },
     "execution_count": 28,
     "metadata": {},
     "output_type": "execute_result"
    }
   ],
   "source": [
    "index = 0\n",
    "difference_total = 0\n",
    "\n",
    "while index < len(sorted_list_1):\n",
    "    difference_total += abs(sorted_list_1[index] - sorted_list_2[index])\n",
    "    index += 1\n",
    "    \n",
    "difference_total"
   ]
  },
  {
   "cell_type": "code",
   "execution_count": null,
   "metadata": {},
   "outputs": [],
   "source": []
  }
 ],
 "metadata": {
  "kernelspec": {
   "display_name": "Python 3",
   "language": "python",
   "name": "python3"
  },
  "language_info": {
   "codemirror_mode": {
    "name": "ipython",
    "version": 3
   },
   "file_extension": ".py",
   "mimetype": "text/x-python",
   "name": "python",
   "nbconvert_exporter": "python",
   "pygments_lexer": "ipython3",
   "version": "3.8.5"
  }
 },
 "nbformat": 4,
 "nbformat_minor": 4
}
