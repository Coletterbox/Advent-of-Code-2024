{
 "cells": [
  {
   "cell_type": "code",
   "execution_count": 74,
   "metadata": {},
   "outputs": [
    {
     "name": "stdout",
     "output_type": "stream",
     "text": [
      "['16 19 21 24 21\\n', '15 18 19 22 24 25 25\\n', '80 81 83 84 87 89 93\\n', '6 7 8 9 10 13 18\\n', '60 62 61 64 66 67\\n']\n"
     ]
    }
   ],
   "source": [
    "input_file = open(\"Day 2 Input.txt\", \"r\")\n",
    "input_list = input_file.readlines()\n",
    "print(input_list[0:5])"
   ]
  },
  {
   "cell_type": "code",
   "execution_count": 73,
   "metadata": {},
   "outputs": [
    {
     "name": "stdout",
     "output_type": "stream",
     "text": [
      "516\n"
     ]
    }
   ],
   "source": [
    "total_safe_lines = 0\n",
    "\n",
    "for line in input_list:\n",
    "    \n",
    "    line = line.replace(\"\\n\", \"\")\n",
    "    level_list = line.split(\" \")\n",
    "#     print(level_list)\n",
    "    \n",
    "    num_list = []\n",
    "    for num_string in level_list:\n",
    "        \n",
    "        \n",
    "        num_list.append(int(num_string))\n",
    "        \n",
    "        \n",
    "#     print(num_list)\n",
    "    \n",
    "    is_increasing_or_decreasing = False\n",
    "    \n",
    "    increasing_num_list = num_list.copy()\n",
    "    increasing_num_list.sort()\n",
    "#     print(increasing_num_list)\n",
    "    \n",
    "    decreasing_num_list = num_list.copy()\n",
    "    decreasing_num_list.sort(reverse = True)\n",
    "#     print(decreasing_num_list)\n",
    "    \n",
    "    if num_list == increasing_num_list:\n",
    "        is_increasing_or_decreasing = True\n",
    "        \n",
    "    if num_list == decreasing_num_list:\n",
    "        is_increasing_or_decreasing = True\n",
    "    \n",
    "#     difference_is_safe = False\n",
    "    \n",
    "    if is_increasing_or_decreasing == True and check_differences(num_list) == True:\n",
    "#         print(check_differences(num_list))\n",
    "#         print(num_list)  \n",
    "        \n",
    "        total_safe_lines += 1\n",
    "        \n",
    "print(total_safe_lines)"
   ]
  },
  {
   "cell_type": "code",
   "execution_count": 68,
   "metadata": {},
   "outputs": [],
   "source": [
    "def check_differences(num_list):\n",
    "#     print(num_list)\n",
    "    differences_are_safe = True\n",
    "    \n",
    "    i = 0\n",
    "    while i < len(num_list) - 1:\n",
    "            \n",
    "        difference = abs(num_list[i] - num_list[i+1])\n",
    "#         if (difference >= 1 and difference <= 3) == False:\n",
    "        if difference < 1 or difference > 3:\n",
    "#             print(difference)\n",
    "            differences_are_safe = False\n",
    "            break\n",
    "            \n",
    "        i += 1\n",
    "    return differences_are_safe"
   ]
  },
  {
   "cell_type": "code",
   "execution_count": 64,
   "metadata": {},
   "outputs": [],
   "source": [
    "test_list = [44, 47, 49, 49, 51, 54, 58]\n",
    "test_list_2 = [69, 71, 74, 74, 81]\n",
    "test_list_3 = [66, 68, 72, 75, 77]\n",
    "test_list_4 = [66, 68, 71, 74, 77]\n",
    "test_list_5 = [15, 18, 19, 22, 24, 25, 25]"
   ]
  },
  {
   "cell_type": "code",
   "execution_count": 65,
   "metadata": {},
   "outputs": [
    {
     "name": "stdout",
     "output_type": "stream",
     "text": [
      "[66, 68, 72, 75, 77]\n",
      "4\n"
     ]
    },
    {
     "data": {
      "text/plain": [
       "False"
      ]
     },
     "execution_count": 65,
     "metadata": {},
     "output_type": "execute_result"
    }
   ],
   "source": [
    "check_differences(test_list_3)"
   ]
  },
  {
   "cell_type": "code",
   "execution_count": 66,
   "metadata": {},
   "outputs": [
    {
     "name": "stdout",
     "output_type": "stream",
     "text": [
      "[15, 18, 19, 22, 24, 25, 25]\n",
      "0\n"
     ]
    },
    {
     "data": {
      "text/plain": [
       "False"
      ]
     },
     "execution_count": 66,
     "metadata": {},
     "output_type": "execute_result"
    }
   ],
   "source": [
    "check_differences(test_list_5)"
   ]
  },
  {
   "cell_type": "code",
   "execution_count": null,
   "metadata": {},
   "outputs": [],
   "source": []
  }
 ],
 "metadata": {
  "kernelspec": {
   "display_name": "Python 3",
   "language": "python",
   "name": "python3"
  },
  "language_info": {
   "codemirror_mode": {
    "name": "ipython",
    "version": 3
   },
   "file_extension": ".py",
   "mimetype": "text/x-python",
   "name": "python",
   "nbconvert_exporter": "python",
   "pygments_lexer": "ipython3",
   "version": "3.8.5"
  }
 },
 "nbformat": 4,
 "nbformat_minor": 4
}
