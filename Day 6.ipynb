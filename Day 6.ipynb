{
 "cells": [
  {
   "cell_type": "markdown",
   "metadata": {},
   "source": [
    "y co-ordinate is array number\n",
    "x co-ordinate is string number\n",
    "\n",
    "(i.e. remember that co-ordinates go y, x)"
   ]
  },
  {
   "cell_type": "code",
   "execution_count": 42,
   "metadata": {},
   "outputs": [],
   "source": [
    "# take and return array of co-ordinates\n",
    "# these don't change the current position, mark, or tally new positions - a different function handles that\n",
    "\n",
    "def move_up(y_x):\n",
    "    y = y_x[0]\n",
    "    x = y_x[1]\n",
    "    return [(y-1), (x)]\n",
    "\n",
    "def move_down(y_x):\n",
    "    y = y_x[0]\n",
    "    x = y_x[1]\n",
    "    return [(y+1), (x)]\n",
    "\n",
    "def move_left(y_x):\n",
    "    y = y_x[0]\n",
    "    x = y_x[1]\n",
    "    return [(y), (x-1)]\n",
    "\n",
    "def move_right(y_x):\n",
    "    y = y_x[0]\n",
    "    x = y_x[1]\n",
    "    return [(y), (x+1)]"
   ]
  },
  {
   "cell_type": "code",
   "execution_count": 43,
   "metadata": {},
   "outputs": [],
   "source": [
    "def parse_input(filename):\n",
    "    input_file = open(filename, \"r\")\n",
    "    input_list = input_file.readlines()\n",
    "    \n",
    "    output_list = []\n",
    "    for line in input_list:\n",
    "        output_list.append(line.replace(\"\\n\", \"\"))\n",
    "    \n",
    "    return output_list"
   ]
  },
  {
   "cell_type": "code",
   "execution_count": 44,
   "metadata": {},
   "outputs": [
    {
     "data": {
      "text/plain": [
       "['....#.....',\n",
       " '.........#',\n",
       " '..........',\n",
       " '..#.......',\n",
       " '.......#..',\n",
       " '..........',\n",
       " '.#..^.....',\n",
       " '........#.',\n",
       " '#.........',\n",
       " '......#...']"
      ]
     },
     "execution_count": 44,
     "metadata": {},
     "output_type": "execute_result"
    }
   ],
   "source": [
    "# filename = \"Day 6 Input.txt\"\n",
    "filename = \"Day 6 Test Input.txt\"\n",
    "parse_input(filename)"
   ]
  },
  {
   "cell_type": "code",
   "execution_count": 45,
   "metadata": {},
   "outputs": [
    {
     "data": {
      "text/plain": [
       "[6, 4]"
      ]
     },
     "execution_count": 45,
     "metadata": {},
     "output_type": "execute_result"
    }
   ],
   "source": [
    "def get_current_coordinates(filename):\n",
    "    grid = parse_input(filename)\n",
    "    current_coordinates = []\n",
    "    \n",
    "    i = 0\n",
    "    while i < len(grid):\n",
    "        j = 0\n",
    "        while j < len(grid[i]):\n",
    "            if grid[i][j] == \"^\":\n",
    "                current_coordinates = [i, j]\n",
    "            j += 1\n",
    "        i += 1\n",
    "        \n",
    "    return current_coordinates\n",
    "\n",
    "get_current_coordinates(filename)"
   ]
  },
  {
   "cell_type": "code",
   "execution_count": 46,
   "metadata": {},
   "outputs": [],
   "source": [
    "# def move(filename):\n",
    "#     current_coordinates = get_current_coordinates(filename)\n",
    "#     current_direction = \"up\"\n",
    "#     next_coordinates = move_up(current_coordinates)\n",
    "#     grid = parse_input(filename)\n",
    "#     position_tally = 1\n",
    "    \n",
    "#     if grid[next_coordinates] != \"#\":\n",
    "#         if grid[next_coordinates] != \"x\":\n",
    "#             current_coordinates = next_coordinates\n",
    "#             grid[next_coordinates] = \"x\"\n",
    "#             position_tally += 1\n",
    "#         elif grid[next_coordinates] == \"x\":\n",
    "#             current_coordinates = next_coordinates\n",
    "            \n",
    "#     if grid[next_coordinates] != \"#\" and current_direction = \"up\":\n",
    "#         current_direction = \"right\""
   ]
  },
  {
   "cell_type": "code",
   "execution_count": 47,
   "metadata": {},
   "outputs": [],
   "source": [
    "# this just sets the direction and next coordinates after hitting an obstacle\n",
    "# it doesn't change the current position, mark, or tally new positions\n",
    "def hit_obstacle(current_direction, current_coordinates):\n",
    "    if current_direction == \"up\":\n",
    "        next_coordinates = move_right(current_coordinates)\n",
    "        current_direction = \"right\"\n",
    "    if current_direction == \"right\":\n",
    "        next_coordinates = move_down(current_coordinates)\n",
    "        current_direction = \"down\"\n",
    "    if current_direction == \"down\":\n",
    "        next_coordinates = move_left(current_coordinates)\n",
    "        current_direction = \"left\"\n",
    "    if current_direction == \"left\":\n",
    "        next_coordinates = move_up(current_coordinates)\n",
    "        current_direction = \"up\"\n",
    "    \n",
    "    return [current_direction, next_coordinates]"
   ]
  },
  {
   "cell_type": "code",
   "execution_count": 48,
   "metadata": {},
   "outputs": [
    {
     "name": "stdout",
     "output_type": "stream",
     "text": [
      "['....#.....', '.........#', '..........', '..#.......', '.......#..', '....x.....', '.#..^.....', '........#.', '#.........', '......#...'] up [5, 4] 2\n",
      "['....#.....', '.........#', '..........', '..#.......', '....x..#..', '..........', '.#..^.....', '........#.', '#.........', '......#...'] up [4, 4] 3\n",
      "['....#.....', '.........#', '..........', '..#.x.....', '.......#..', '..........', '.#..^.....', '........#.', '#.........', '......#...'] up [3, 4] 4\n",
      "['....#.....', '.........#', '....x.....', '..#.......', '.......#..', '..........', '.#..^.....', '........#.', '#.........', '......#...'] up [2, 4] 5\n",
      "['....#.....', '....x....#', '..........', '..#.......', '.......#..', '..........', '.#..^.....', '........#.', '#.........', '......#...'] up [1, 4] 6\n",
      "['....#.....', '.........#', '..........', '..#.......', '.......#..', '..........', '.#..^.....', '........#.', '#.........', '......#...'] up [0, 4] 6\n",
      "['....#.....', '.........#', '..........', '..#.......', '.......#..', '..........', '.#..^.....', '........#.', '#.........', '......#...']\n"
     ]
    }
   ],
   "source": [
    "# main function\n",
    "def move(grid, current_direction, current_coordinates, position_tally):\n",
    "#     current_coordinates = get_current_coordinates(filename)\n",
    "    grid = parse_input(filename)\n",
    "    y = current_coordinates[0]\n",
    "    x = current_coordinates[1]\n",
    "    \n",
    "    if current_direction == \"up\":\n",
    "        next_coordinates = move_up(current_coordinates)\n",
    "    if current_direction == \"right\":\n",
    "        next_coordinates = move_right(current_coordinates)       \n",
    "    if current_direction == \"down\":\n",
    "        next_coordinates = move_down(current_coordinates)\n",
    "    if current_direction == \"left\":\n",
    "        next_coordinates = move_left(current_coordinates)\n",
    "        \n",
    "    if next_coordinates[0] < 0 or next_coordinates[0] > len(grid):\n",
    "        print(grid)\n",
    "        return position_tally\n",
    "    if next_coordinates[1] < 0 or next_coordinates[1] > len(grid[0]):\n",
    "        print(grid)\n",
    "        return position_tally\n",
    "    \n",
    "    if grid[next_coordinates[0]][next_coordinates[1]] != \"#\":\n",
    "        if grid[next_coordinates[0]][next_coordinates[1]] != \"x\":\n",
    "#             grid[next_coordinates[0]][next_coordinates[1]] = \"x\"\n",
    "            grid[next_coordinates[0]] = grid[next_coordinates[0]][:next_coordinates[1]] + \"x\" + grid[next_coordinates[0]][next_coordinates[1]+1:] \n",
    "            current_coordinates = next_coordinates\n",
    "            position_tally += 1\n",
    "        elif grid[next_coordinates[0]][next_coordinates[1]] == \"x\":\n",
    "            current_coordinates = next_coordinates\n",
    "            \n",
    "    if grid[next_coordinates[0]][next_coordinates[1]] == \"#\":\n",
    "        current_direction = hit_obstacle(current_direction, current_coordinates)[0]\n",
    "        current_coordinates = hit_obstacle(current_direction, current_coordinates)[1]\n",
    "    \n",
    "    print(grid, current_direction, current_coordinates, position_tally)\n",
    "    move(grid, current_direction, current_coordinates, position_tally)\n",
    "\n",
    "# starting variables\n",
    "grid = parse_input(filename)\n",
    "position_tally = 1\n",
    "current_direction = \"up\"\n",
    "current_coordinates = get_current_coordinates(filename)\n",
    "\n",
    "move(grid, current_direction, current_coordinates, position_tally)\n"
   ]
  },
  {
   "cell_type": "code",
   "execution_count": 40,
   "metadata": {},
   "outputs": [
    {
     "data": {
      "text/plain": [
       "['....#.....',\n",
       " '.........#',\n",
       " '..........',\n",
       " '..#.......',\n",
       " '.......#..',\n",
       " '..........',\n",
       " '.#..^.....',\n",
       " '........#.',\n",
       " '#.........',\n",
       " '......#...']"
      ]
     },
     "execution_count": 40,
     "metadata": {},
     "output_type": "execute_result"
    }
   ],
   "source": [
    "['....#.....', \n",
    " '.........#', \n",
    " '..........', \n",
    " '..#.......', \n",
    " '.......#..', \n",
    " '..........', \n",
    " '.#..^.....', \n",
    " '........#.', \n",
    " '#.........', \n",
    " '......#...']\n",
    "\n",
    "['....#.....', \n",
    " '.........#', \n",
    " '..........', '..#.......', '.......#..', '..........', '.#..^.....', '........#.', '#.........', '......#...']"
   ]
  },
  {
   "cell_type": "code",
   "execution_count": null,
   "metadata": {},
   "outputs": [],
   "source": []
  },
  {
   "cell_type": "code",
   "execution_count": null,
   "metadata": {},
   "outputs": [],
   "source": []
  }
 ],
 "metadata": {
  "kernelspec": {
   "display_name": "Python 3",
   "language": "python",
   "name": "python3"
  },
  "language_info": {
   "codemirror_mode": {
    "name": "ipython",
    "version": 3
   },
   "file_extension": ".py",
   "mimetype": "text/x-python",
   "name": "python",
   "nbconvert_exporter": "python",
   "pygments_lexer": "ipython3",
   "version": "3.8.5"
  }
 },
 "nbformat": 4,
 "nbformat_minor": 4
}
