{
 "cells": [
  {
   "cell_type": "markdown",
   "metadata": {},
   "source": [
    "# Part 1"
   ]
  },
  {
   "cell_type": "code",
   "execution_count": 240,
   "metadata": {},
   "outputs": [],
   "source": [
    "def parse_input(filename):\n",
    "    input_file = open(filename, \"r\")\n",
    "    input_list = input_file.readlines()\n",
    "    \n",
    "    output_list = []\n",
    "    for line in input_list:\n",
    "        output_list.append(line.replace(\"\\n\", \"\"))\n",
    "    \n",
    "    return output_list\n",
    "\n",
    "def get_ordering_rules(input_list):\n",
    "    ordering_rules = []\n",
    "    \n",
    "    for line in input_list:\n",
    "        if line == '':\n",
    "            break\n",
    "        else:\n",
    "            ordering_rules.append(line)\n",
    "            \n",
    "    return ordering_rules\n",
    "\n",
    "def get_updates(input_list):\n",
    "    updates = []\n",
    "    \n",
    "    i = input_list.index('') + 1\n",
    "    while i < len(input_list):\n",
    "        updates.append(input_list[i])\n",
    "        i += 1\n",
    "    \n",
    "    return updates"
   ]
  },
  {
   "cell_type": "code",
   "execution_count": 242,
   "metadata": {},
   "outputs": [
    {
     "data": {
      "text/plain": [
       "5948"
      ]
     },
     "execution_count": 242,
     "metadata": {},
     "output_type": "execute_result"
    }
   ],
   "source": [
    "def is_correct(line):\n",
    "    sequence = line.split(',')\n",
    "    \n",
    "    numbers = []\n",
    "    for num_string in sequence:\n",
    "        numbers.append(int(num_string))\n",
    "    \n",
    "    rules = get_ordering_rules(input_list)\n",
    "    \n",
    "    # for an edge case that doesn't exist\n",
    "    numbers_copy = numbers.copy()\n",
    "    numbers_copy.sort()\n",
    "    i = 1\n",
    "    while i < len(numbers_copy):\n",
    "        if numbers_copy[i] == numbers_copy[i - 1]:\n",
    "            return False\n",
    "        i += 1\n",
    "    \n",
    "    for number in numbers:        \n",
    "        for rule in rules:\n",
    "            rule_pair = [int(rule.split(\"|\")[0]), int(rule.split(\"|\")[1])]\n",
    "            if number == rule_pair[1] and any(x == rule_pair[0] for x in numbers) and numbers.index(rule_pair[0]) > numbers.index(number):\n",
    "                return False\n",
    "     \n",
    "    return True\n",
    "    \n",
    "def find_correct_updates(updates):\n",
    "    middle_number_total = 0\n",
    "    \n",
    "    for line in updates:\n",
    "        if is_correct(line):\n",
    "            middle_number = line.split(',')[int(int(len(line.split(',')) + 1) / 2) - 1]\n",
    "            middle_number_total += int(middle_number)\n",
    "    \n",
    "    return middle_number_total\n",
    "\n",
    "find_correct_updates(get_updates(input_list))\n"
   ]
  },
  {
   "cell_type": "code",
   "execution_count": 244,
   "metadata": {},
   "outputs": [
    {
     "data": {
      "text/plain": [
       "143"
      ]
     },
     "execution_count": 244,
     "metadata": {},
     "output_type": "execute_result"
    }
   ],
   "source": [
    "filename = \"Day 5 Test Input.txt\"\n",
    "input_list = parse_input(filename)\n",
    "get_ordering_rules(input_list)\n",
    "find_correct_updates(get_updates(parse_input(filename)))"
   ]
  },
  {
   "cell_type": "markdown",
   "metadata": {},
   "source": [
    "# Part 2"
   ]
  },
  {
   "cell_type": "code",
   "execution_count": 233,
   "metadata": {},
   "outputs": [],
   "source": [
    "def get_only_relevant_ordering_rules(input_list, line_array):\n",
    "    ordering_rules = []\n",
    "    \n",
    "    for num_string in line_array:\n",
    "        for line in input_list:\n",
    "            if line == '':\n",
    "                break\n",
    "            elif num_string in line:\n",
    "                ordering_rules.append(line)\n",
    "            \n",
    "    return ordering_rules"
   ]
  },
  {
   "cell_type": "code",
   "execution_count": 245,
   "metadata": {},
   "outputs": [],
   "source": [
    "# works on the basis that every individual relationship is stated in the input\n",
    "def get_priority(ordering_rules):\n",
    "    keys = []\n",
    "    for rule in ordering_rules:\n",
    "        key = int(rule.split(\"|\")[0])\n",
    "        if key not in keys:\n",
    "            keys.append(key)\n",
    "     \n",
    "    for rule in ordering_rules:\n",
    "        last_key = int(rule.split(\"|\")[1])\n",
    "        if last_key not in keys:\n",
    "            keys.append(last_key)\n",
    "    \n",
    "    priorities = dict.fromkeys(keys, 0)\n",
    "    \n",
    "    for rule in ordering_rules:\n",
    "        key = int(rule.split(\"|\")[0])\n",
    "        priorities[key] += 1\n",
    "    \n",
    "    priorities_sorted = dict(sorted(priorities.items(), key=lambda item: item[1], reverse = True))\n",
    "    return priorities_sorted"
   ]
  },
  {
   "cell_type": "code",
   "execution_count": 246,
   "metadata": {},
   "outputs": [
    {
     "data": {
      "text/plain": [
       "123"
      ]
     },
     "execution_count": 246,
     "metadata": {},
     "output_type": "execute_result"
    }
   ],
   "source": [
    "def correct_incorrect_updates(input_list):\n",
    "    updates = get_updates(input_list)\n",
    "    middle_number_total = 0\n",
    "    \n",
    "    for line in updates:\n",
    "        line_array = line.split(\",\")\n",
    "        ordering_rules = get_only_relevant_ordering_rules(input_list, line_array)\n",
    "        ranks = get_priority(ordering_rules)\n",
    "        if is_correct(line) == False:\n",
    "            ordered = []\n",
    "            for rank in ranks:\n",
    "                for number in line_array:\n",
    "                    if int(rank) == int(number):\n",
    "                        ordered.append(int(number))\n",
    "            middle_number = ordered[int(((len(ordered) + 1) / 2) - 1)]\n",
    "            middle_number_total += int(middle_number)\n",
    "    \n",
    "    return middle_number_total\n",
    "\n",
    "filename = \"Day 5 Test Input.txt\"   \n",
    "input_list = parse_input(filename) \n",
    "correct_incorrect_updates(input_list)"
   ]
  },
  {
   "cell_type": "code",
   "execution_count": 247,
   "metadata": {},
   "outputs": [
    {
     "data": {
      "text/plain": [
       "3062"
      ]
     },
     "execution_count": 247,
     "metadata": {},
     "output_type": "execute_result"
    }
   ],
   "source": [
    "filename = \"Day 5 Input.txt\"   \n",
    "input_list = parse_input(filename) \n",
    "get_ordering_rules(input_list)\n",
    "correct_incorrect_updates(input_list)"
   ]
  },
  {
   "cell_type": "code",
   "execution_count": null,
   "metadata": {},
   "outputs": [],
   "source": []
  }
 ],
 "metadata": {
  "kernelspec": {
   "display_name": "Python 3",
   "language": "python",
   "name": "python3"
  },
  "language_info": {
   "codemirror_mode": {
    "name": "ipython",
    "version": 3
   },
   "file_extension": ".py",
   "mimetype": "text/x-python",
   "name": "python",
   "nbconvert_exporter": "python",
   "pygments_lexer": "ipython3",
   "version": "3.8.5"
  }
 },
 "nbformat": 4,
 "nbformat_minor": 4
}
