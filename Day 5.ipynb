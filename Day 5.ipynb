{
 "cells": [
  {
   "cell_type": "markdown",
   "metadata": {},
   "source": [
    "# Part 1"
   ]
  },
  {
   "cell_type": "code",
   "execution_count": 223,
   "metadata": {},
   "outputs": [],
   "source": [
    "def parse_input(filename):\n",
    "    input_file = open(filename, \"r\")\n",
    "    input_list = input_file.readlines()\n",
    "    \n",
    "    output_list = []\n",
    "    for line in input_list:\n",
    "        output_list.append(line.replace(\"\\n\", \"\"))\n",
    "    \n",
    "    return output_list\n",
    "\n",
    "def get_ordering_rules(input_list):\n",
    "    ordering_rules = []\n",
    "    \n",
    "    for line in input_list:\n",
    "        if line == '':\n",
    "            break\n",
    "        else:\n",
    "            ordering_rules.append(line)\n",
    "            \n",
    "    return ordering_rules\n",
    "\n",
    "def get_updates(input_list):\n",
    "    updates = []\n",
    "    \n",
    "    i = input_list.index('') + 1\n",
    "    while i < len(input_list):\n",
    "        updates.append(input_list[i])\n",
    "        i += 1\n",
    "    \n",
    "    return updates\n",
    "\n",
    "# filename = \"Day 5 Test Input.txt\"\n",
    "# input_list = parse_input(filename)\n",
    "# get_ordering_rules(input_list)\n",
    "# get_updates(input_list)"
   ]
  },
  {
   "cell_type": "code",
   "execution_count": 224,
   "metadata": {},
   "outputs": [
    {
     "name": "stdout",
     "output_type": "stream",
     "text": [
      "['75', '47', '61', '53', '29']\n",
      "True\n",
      "61\n",
      "middle_number,  61\n",
      "['97', '61', '53', '29', '13']\n",
      "True\n",
      "53\n",
      "middle_number,  53\n",
      "['75', '29', '13']\n",
      "True\n",
      "29\n",
      "middle_number,  29\n",
      "['75', '97', '47', '61', '53']\n",
      "numbers,  [75, 97, 47, 61, 53]\n",
      "rule_pair,  [97, 75]\n",
      "False\n",
      "['61', '13', '29']\n",
      "numbers,  [61, 13, 29]\n",
      "rule_pair,  [29, 13]\n",
      "False\n",
      "['97', '13', '75', '29', '47']\n",
      "numbers,  [97, 13, 75, 29, 47]\n",
      "rule_pair,  [29, 13]\n",
      "False\n"
     ]
    },
    {
     "data": {
      "text/plain": [
       "143"
      ]
     },
     "execution_count": 224,
     "metadata": {},
     "output_type": "execute_result"
    }
   ],
   "source": [
    "def is_correct(line):\n",
    "    sequence = line.split(',')\n",
    "    \n",
    "    print(sequence)\n",
    "    \n",
    "    numbers = []\n",
    "    for num_string in sequence:\n",
    "        numbers.append(int(num_string))\n",
    "    \n",
    "    rules = get_ordering_rules(input_list)\n",
    "    \n",
    "    numbers_copy = numbers.copy()\n",
    "    numbers_copy.sort()\n",
    "    i = 1\n",
    "    while i < len(numbers_copy):\n",
    "        if numbers_copy[i] == numbers_copy[i - 1]:\n",
    "            return False\n",
    "        i += 1\n",
    "    \n",
    "    for number in numbers:        \n",
    "        for rule in rules:\n",
    "            rule_pair = [int(rule.split(\"|\")[0]), int(rule.split(\"|\")[1])]\n",
    "#             print(rule_pair)\n",
    "            if number == rule_pair[1] and any(x == rule_pair[0] for x in numbers) and numbers.index(rule_pair[0]) > numbers.index(number):\n",
    "                print('numbers, ', numbers)\n",
    "                print('rule_pair, ', rule_pair)\n",
    "                print('False')\n",
    "                return False\n",
    "     \n",
    "    print('True')\n",
    "    return True\n",
    "    \n",
    "def find_correct_updates(updates):\n",
    "    middle_number_total = 0\n",
    "    \n",
    "    for line in updates:\n",
    "        if is_correct(line):\n",
    "#             print(line, (len(line.split(',')) + 1) / 2)\n",
    "#             middle_number_total += int(line[int(((len(line.split(',')) + 1) / 2]))\n",
    "#             middle_number_total += int(line[int((len(line.split(',')) + 1) / 2)])\n",
    "            print(line.split(',')[int(int(len(line.split(',')) + 1) / 2) - 1])\n",
    "            middle_number = line.split(',')[int(int(len(line.split(',')) + 1) / 2) - 1]\n",
    "            print('middle_number, ', middle_number)\n",
    "            middle_number_total += int(middle_number)\n",
    "#             print(line, len(line))\n",
    "    \n",
    "    return middle_number_total\n",
    "\n",
    "find_correct_updates(get_updates(input_list))\n"
   ]
  },
  {
   "cell_type": "code",
   "execution_count": 225,
   "metadata": {},
   "outputs": [
    {
     "name": "stdout",
     "output_type": "stream",
     "text": [
      "['75', '47', '61', '53', '29']\n",
      "True\n",
      "61\n",
      "middle_number,  61\n",
      "['97', '61', '53', '29', '13']\n",
      "True\n",
      "53\n",
      "middle_number,  53\n",
      "['75', '29', '13']\n",
      "True\n",
      "29\n",
      "middle_number,  29\n",
      "['75', '97', '47', '61', '53']\n",
      "numbers,  [75, 97, 47, 61, 53]\n",
      "rule_pair,  [97, 75]\n",
      "False\n",
      "['61', '13', '29']\n",
      "numbers,  [61, 13, 29]\n",
      "rule_pair,  [29, 13]\n",
      "False\n",
      "['97', '13', '75', '29', '47']\n",
      "numbers,  [97, 13, 75, 29, 47]\n",
      "rule_pair,  [29, 13]\n",
      "False\n"
     ]
    },
    {
     "data": {
      "text/plain": [
       "143"
      ]
     },
     "execution_count": 225,
     "metadata": {},
     "output_type": "execute_result"
    }
   ],
   "source": [
    "filename = \"Day 5 Test Input.txt\"\n",
    "input_list = parse_input(filename)\n",
    "get_ordering_rules(input_list)\n",
    "find_correct_updates(get_updates(parse_input(filename)))"
   ]
  },
  {
   "cell_type": "code",
   "execution_count": 226,
   "metadata": {},
   "outputs": [],
   "source": [
    "# filename = \"Day 5 Test Input 2.txt\"\n",
    "# input_list = parse_input(filename)\n",
    "# get_ordering_rules(input_list)\n",
    "# find_correct_updates(get_updates(parse_input(filename)))"
   ]
  },
  {
   "cell_type": "markdown",
   "metadata": {},
   "source": [
    "# Part 2"
   ]
  },
  {
   "cell_type": "code",
   "execution_count": 233,
   "metadata": {},
   "outputs": [],
   "source": [
    "def get_only_relevant_ordering_rules(input_list, line_array):\n",
    "    ordering_rules = []\n",
    "    \n",
    "    for num_string in line_array:\n",
    "        for line in input_list:\n",
    "            if line == '':\n",
    "                break\n",
    "            elif num_string in line:\n",
    "                ordering_rules.append(line)\n",
    "            \n",
    "    return ordering_rules"
   ]
  },
  {
   "cell_type": "code",
   "execution_count": 234,
   "metadata": {},
   "outputs": [
    {
     "name": "stdout",
     "output_type": "stream",
     "text": [
      "[47, 97, 75, 61, 29, 53, 13]\n"
     ]
    },
    {
     "data": {
      "text/plain": [
       "{97: 6, 75: 5, 47: 4, 61: 3, 53: 2, 29: 1, 13: 0}"
      ]
     },
     "execution_count": 234,
     "metadata": {},
     "output_type": "execute_result"
    }
   ],
   "source": [
    "# works on the basis that every individual relationship is stated in the input\n",
    "def get_priority(ordering_rules):\n",
    "    keys = []\n",
    "    for rule in ordering_rules:\n",
    "        key = int(rule.split(\"|\")[0])\n",
    "        if key not in keys:\n",
    "            keys.append(key)\n",
    "     \n",
    "    for rule in ordering_rules:\n",
    "        last_key = int(rule.split(\"|\")[1])\n",
    "        if last_key not in keys:\n",
    "            keys.append(last_key)\n",
    "        \n",
    "    print(keys)\n",
    "    \n",
    "    priorities = dict.fromkeys(keys, 0)\n",
    "#     print(priorities)\n",
    "    \n",
    "    for rule in ordering_rules:\n",
    "        key = int(rule.split(\"|\")[0])\n",
    "        priorities[key] += 1\n",
    "    \n",
    "    priorities_sorted = dict(sorted(priorities.items(), key=lambda item: item[1], reverse = True))\n",
    "#     print(priorities_sorted)\n",
    "    return priorities_sorted\n",
    "    \n",
    "filename = \"Day 5 Test Input.txt\"   \n",
    "input_list = parse_input(filename)    \n",
    "ordering_rules = get_ordering_rules(input_list)\n",
    "get_priority(ordering_rules)"
   ]
  },
  {
   "cell_type": "code",
   "execution_count": 237,
   "metadata": {},
   "outputs": [
    {
     "name": "stdout",
     "output_type": "stream",
     "text": [
      "[75, 97, 47, 61, 53, 29, 13]\n",
      "['75', '47', '61', '53', '29']\n",
      "True\n",
      "[97, 61, 47, 75, 53, 29, 13]\n",
      "['97', '61', '53', '29', '13']\n",
      "True\n",
      "[75, 97, 29, 53, 61, 47, 13]\n",
      "['75', '29', '13']\n",
      "True\n",
      "[75, 97, 47, 61, 53, 29, 13]\n",
      "['75', '97', '47', '61', '53']\n",
      "numbers,  [75, 97, 47, 61, 53]\n",
      "rule_pair,  [97, 75]\n",
      "False\n",
      "ordered,  [97, 75, 47, 61, 53]\n",
      "[97, 61, 47, 75, 29, 53, 13]\n",
      "['61', '13', '29']\n",
      "numbers,  [61, 13, 29]\n",
      "rule_pair,  [29, 13]\n",
      "False\n",
      "ordered,  [61, 29, 13]\n",
      "[97, 61, 29, 47, 75, 53, 13]\n",
      "['97', '13', '75', '29', '47']\n",
      "numbers,  [97, 13, 75, 29, 47]\n",
      "rule_pair,  [29, 13]\n",
      "False\n",
      "ordered,  [97, 75, 47, 29, 13]\n"
     ]
    },
    {
     "data": {
      "text/plain": [
       "123"
      ]
     },
     "execution_count": 237,
     "metadata": {},
     "output_type": "execute_result"
    }
   ],
   "source": [
    "def correct_incorrect_updates(input_list):\n",
    "    updates = get_updates(input_list)\n",
    "#     ordering_rules = get_ordering_rules(input_list)\n",
    "#     ranks = get_priority(ordering_rules)\n",
    "    \n",
    "    middle_number_total = 0\n",
    "    \n",
    "    for line in updates:\n",
    "        line_array = line.split(\",\")\n",
    "        ordering_rules = get_only_relevant_ordering_rules(input_list, line_array)\n",
    "        ranks = get_priority(ordering_rules)\n",
    "#         print(\"line, \", line, type(line))\n",
    "        if is_correct(line) == False:\n",
    "            \n",
    "            ordered = []\n",
    "            for rank in ranks:\n",
    "#                 print(\"rank, \", rank)\n",
    "                for number in line_array:\n",
    "#                     print(number, line_array)\n",
    "#                     print(rank, type(rank))\n",
    "                    if int(rank) == int(number):\n",
    "                        ordered.append(int(number))\n",
    "            print(\"ordered, \", ordered)\n",
    "            \n",
    "            middle_number = ordered[int(((len(ordered) + 1) / 2) - 1)]\n",
    "            middle_number_total += int(middle_number)\n",
    "    \n",
    "    return middle_number_total\n",
    "\n",
    "filename = \"Day 5 Test Input.txt\"   \n",
    "input_list = parse_input(filename) \n",
    "correct_incorrect_updates(input_list)"
   ]
  },
  {
   "cell_type": "code",
   "execution_count": 238,
   "metadata": {},
   "outputs": [
    {
     "name": "stdout",
     "output_type": "stream",
     "text": [
      "[75, 97, 47, 61, 53, 29, 13]\n",
      "['75', '47', '61', '53', '29']\n",
      "True\n",
      "[97, 61, 47, 75, 53, 29, 13]\n",
      "['97', '61', '53', '29', '13']\n",
      "True\n",
      "[75, 97, 29, 53, 61, 47, 13]\n",
      "['75', '29', '13']\n",
      "True\n",
      "[75, 97, 47, 61, 53, 29, 13]\n",
      "['75', '97', '47', '61', '53']\n",
      "numbers,  [75, 97, 47, 61, 53]\n",
      "rule_pair,  [97, 75]\n",
      "False\n",
      "ordered,  [97, 75, 47, 61, 53]\n",
      "[97, 61, 47, 75, 29, 53, 13]\n",
      "['61', '13', '29']\n",
      "numbers,  [61, 13, 29]\n",
      "rule_pair,  [29, 13]\n",
      "False\n",
      "ordered,  [61, 29, 13]\n",
      "[97, 61, 29, 47, 75, 53, 13]\n",
      "['97', '13', '75', '29', '47']\n",
      "numbers,  [97, 13, 75, 29, 47]\n",
      "rule_pair,  [29, 13]\n",
      "False\n",
      "ordered,  [97, 75, 47, 29, 13]\n"
     ]
    },
    {
     "data": {
      "text/plain": [
       "123"
      ]
     },
     "execution_count": 238,
     "metadata": {},
     "output_type": "execute_result"
    }
   ],
   "source": [
    "filename = \"Day 5 Test Input.txt\"   \n",
    "input_list = parse_input(filename) \n",
    "get_ordering_rules(input_list)\n",
    "correct_incorrect_updates(input_list)"
   ]
  },
  {
   "cell_type": "code",
   "execution_count": 230,
   "metadata": {},
   "outputs": [
    {
     "name": "stdout",
     "output_type": "stream",
     "text": [
      "[47, 97, 75, 61, 29, 53, 13]\n"
     ]
    },
    {
     "data": {
      "text/plain": [
       "{97: 6, 75: 5, 47: 4, 61: 3, 53: 2, 29: 1, 13: 0}"
      ]
     },
     "execution_count": 230,
     "metadata": {},
     "output_type": "execute_result"
    }
   ],
   "source": [
    "get_priority(get_ordering_rules(input_list))"
   ]
  },
  {
   "cell_type": "code",
   "execution_count": null,
   "metadata": {},
   "outputs": [],
   "source": []
  },
  {
   "cell_type": "code",
   "execution_count": null,
   "metadata": {},
   "outputs": [],
   "source": []
  }
 ],
 "metadata": {
  "kernelspec": {
   "display_name": "Python 3",
   "language": "python",
   "name": "python3"
  },
  "language_info": {
   "codemirror_mode": {
    "name": "ipython",
    "version": 3
   },
   "file_extension": ".py",
   "mimetype": "text/x-python",
   "name": "python",
   "nbconvert_exporter": "python",
   "pygments_lexer": "ipython3",
   "version": "3.8.5"
  }
 },
 "nbformat": 4,
 "nbformat_minor": 4
}
