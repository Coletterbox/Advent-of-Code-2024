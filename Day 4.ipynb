{
 "cells": [
  {
   "cell_type": "code",
   "execution_count": 20,
   "metadata": {},
   "outputs": [],
   "source": [
    "def parse_input(filename):\n",
    "    input_file = open(filename, \"r\")\n",
    "    input_list = input_file.readlines()\n",
    "    \n",
    "    output_list = []\n",
    "    for line in input_list:\n",
    "        output_list.append(line.replace(\"\\n\", \"\"))\n",
    "    \n",
    "    print(output_list)\n",
    "    return output_list"
   ]
  },
  {
   "cell_type": "code",
   "execution_count": 21,
   "metadata": {},
   "outputs": [
    {
     "name": "stdout",
     "output_type": "stream",
     "text": [
      "['MMMSXXMASM', 'MSAMXMSMSA', 'AMXSXMAAMM', 'MSAMASMSMX', 'XMASAMXAMM', 'XXAMMXXAMA', 'SMSMSASXSS', 'SAXAMASAAA', 'MAMMMXMMMM', 'MXMXAXMASX']\n"
     ]
    },
    {
     "data": {
      "text/plain": [
       "['MMMSXXMASM',\n",
       " 'MSAMXMSMSA',\n",
       " 'AMXSXMAAMM',\n",
       " 'MSAMASMSMX',\n",
       " 'XMASAMXAMM',\n",
       " 'XXAMMXXAMA',\n",
       " 'SMSMSASXSS',\n",
       " 'SAXAMASAAA',\n",
       " 'MAMMMXMMMM',\n",
       " 'MXMXAXMASX']"
      ]
     },
     "execution_count": 21,
     "metadata": {},
     "output_type": "execute_result"
    }
   ],
   "source": [
    "filename = \"Day 4 Test Input.txt\"\n",
    "# filename = \"Day 4 Input.txt\"\n",
    "\n",
    "parse_input(filename)"
   ]
  },
  {
   "cell_type": "code",
   "execution_count": 28,
   "metadata": {},
   "outputs": [],
   "source": [
    "def pad_grid(input_list):\n",
    "    padded_grid = []\n",
    "    empty_row = \" \" * (len(input_list[0]) + 6)\n",
    "    \n",
    "    padded_grid.extend([empty_row, empty_row, empty_row])\n",
    "    for line in input_list:\n",
    "        padded_grid.append(\"   \" + line + \"   \")\n",
    "    padded_grid.extend([empty_row, empty_row, empty_row])\n",
    "    \n",
    "    return padded_grid"
   ]
  },
  {
   "cell_type": "code",
   "execution_count": 29,
   "metadata": {},
   "outputs": [
    {
     "name": "stdout",
     "output_type": "stream",
     "text": [
      "['MMMSXXMASM', 'MSAMXMSMSA', 'AMXSXMAAMM', 'MSAMASMSMX', 'XMASAMXAMM', 'XXAMMXXAMA', 'SMSMSASXSS', 'SAXAMASAAA', 'MAMMMXMMMM', 'MXMXAXMASX']\n"
     ]
    },
    {
     "data": {
      "text/plain": [
       "['                ',\n",
       " '                ',\n",
       " '                ',\n",
       " '   MMMSXXMASM   ',\n",
       " '   MSAMXMSMSA   ',\n",
       " '   AMXSXMAAMM   ',\n",
       " '   MSAMASMSMX   ',\n",
       " '   XMASAMXAMM   ',\n",
       " '   XXAMMXXAMA   ',\n",
       " '   SMSMSASXSS   ',\n",
       " '   SAXAMASAAA   ',\n",
       " '   MAMMMXMMMM   ',\n",
       " '   MXMXAXMASX   ',\n",
       " '                ',\n",
       " '                ',\n",
       " '                ']"
      ]
     },
     "execution_count": 29,
     "metadata": {},
     "output_type": "execute_result"
    }
   ],
   "source": [
    "pad_grid(parse_input(filename))"
   ]
  },
  {
   "cell_type": "code",
   "execution_count": 63,
   "metadata": {},
   "outputs": [],
   "source": [
    "def find_xmas(input_list):\n",
    "    xmas_count = 0\n",
    "    \n",
    "    i = 3\n",
    "    while i < (len(input_list) - 3):\n",
    "        ii = 3\n",
    "        while ii < (len(input_list[i]) - 3):\n",
    "            if input_list[i][ii] == 'X':\n",
    "#                 print('X:', i, ii)\n",
    "                xmas_count += find_mas(i, ii, input_list)\n",
    "            ii += 1\n",
    "#             print('ii, ' + str(ii))\n",
    "        i += 1\n",
    "#         print('i, ' + str(i))\n",
    "    \n",
    "    return xmas_count"
   ]
  },
  {
   "cell_type": "code",
   "execution_count": 64,
   "metadata": {},
   "outputs": [],
   "source": [
    "def find_mas(i, ii, input_list):\n",
    "    mas_count = 0 # count for each X\n",
    "#     if i >= 0 and i < len(input_list) and ii >= 0 and ii < len(input_list[i]):\n",
    "        \n",
    "#     else:\n",
    "#         return False\n",
    "    if input_list[i - 1][ii - 1] == 'M' and input_list[i - 2][ii - 2] == 'A' and input_list[i - 3][ii - 3] == 'S':\n",
    "        mas_count += 1\n",
    "    if input_list[i + 1][ii + 1] == 'M' and input_list[i + 2][ii + 2] == 'A' and input_list[i + 3][ii + 3] == 'S':\n",
    "        mas_count += 1\n",
    "    if input_list[i - 1][ii + 1] == 'M' and input_list[i - 2][ii + 2] == 'A' and input_list[i - 3][ii + 3] == 'S':\n",
    "        mas_count += 1\n",
    "    if input_list[i + 1][ii - 1] == 'M' and input_list[i + 2][ii - 2] == 'A' and input_list[i + 3][ii - 3] == 'S':\n",
    "        mas_count += 1\n",
    "    if input_list[i - 1][ii] == 'M' and input_list[i - 2][ii] == 'A' and input_list[i - 3][ii] == 'S':\n",
    "        mas_count += 1\n",
    "    if input_list[i + 1][ii] == 'M' and input_list[i + 2][ii] == 'A' and input_list[i + 3][ii] == 'S':\n",
    "        mas_count += 1\n",
    "    if input_list[i][ii + 1] == 'M' and input_list[i][ii + 2] == 'A' and input_list[i][ii + 3] == 'S':\n",
    "        mas_count += 1\n",
    "    if input_list[i][ii - 1] == 'M' and input_list[i][ii - 2] == 'A' and input_list[i][ii - 3] == 'S':\n",
    "        mas_count += 1\n",
    "        \n",
    "    return mas_count"
   ]
  },
  {
   "cell_type": "code",
   "execution_count": 65,
   "metadata": {},
   "outputs": [
    {
     "name": "stdout",
     "output_type": "stream",
     "text": [
      "['MMMSXXMASM', 'MSAMXMSMSA', 'AMXSXMAAMM', 'MSAMASMSMX', 'XMASAMXAMM', 'XXAMMXXAMA', 'SMSMSASXSS', 'SAXAMASAAA', 'MAMMMXMMMM', 'MXMXAXMASX']\n",
      "ii, 4\n",
      "ii, 5\n",
      "ii, 6\n",
      "ii, 7\n",
      "X: 3 7\n",
      "ii, 8\n",
      "X: 3 8\n",
      "ii, 9\n",
      "ii, 10\n",
      "ii, 11\n",
      "ii, 12\n",
      "ii, 13\n",
      "i, 4\n",
      "ii, 4\n",
      "ii, 5\n",
      "ii, 6\n",
      "ii, 7\n",
      "X: 4 7\n",
      "ii, 8\n",
      "ii, 9\n",
      "ii, 10\n",
      "ii, 11\n",
      "ii, 12\n",
      "ii, 13\n",
      "i, 5\n",
      "ii, 4\n",
      "ii, 5\n",
      "X: 5 5\n",
      "ii, 6\n",
      "ii, 7\n",
      "X: 5 7\n",
      "ii, 8\n",
      "ii, 9\n",
      "ii, 10\n",
      "ii, 11\n",
      "ii, 12\n",
      "ii, 13\n",
      "i, 6\n",
      "ii, 4\n",
      "ii, 5\n",
      "ii, 6\n",
      "ii, 7\n",
      "ii, 8\n",
      "ii, 9\n",
      "ii, 10\n",
      "ii, 11\n",
      "ii, 12\n",
      "X: 6 12\n",
      "ii, 13\n",
      "i, 7\n",
      "X: 7 3\n",
      "ii, 4\n",
      "ii, 5\n",
      "ii, 6\n",
      "ii, 7\n",
      "ii, 8\n",
      "ii, 9\n",
      "X: 7 9\n",
      "ii, 10\n",
      "ii, 11\n",
      "ii, 12\n",
      "ii, 13\n",
      "i, 8\n",
      "X: 8 3\n",
      "ii, 4\n",
      "X: 8 4\n",
      "ii, 5\n",
      "ii, 6\n",
      "ii, 7\n",
      "ii, 8\n",
      "X: 8 8\n",
      "ii, 9\n",
      "X: 8 9\n",
      "ii, 10\n",
      "ii, 11\n",
      "ii, 12\n",
      "ii, 13\n",
      "i, 9\n",
      "ii, 4\n",
      "ii, 5\n",
      "ii, 6\n",
      "ii, 7\n",
      "ii, 8\n",
      "ii, 9\n",
      "ii, 10\n",
      "X: 9 10\n",
      "ii, 11\n",
      "ii, 12\n",
      "ii, 13\n",
      "i, 10\n",
      "ii, 4\n",
      "ii, 5\n",
      "X: 10 5\n",
      "ii, 6\n",
      "ii, 7\n",
      "ii, 8\n",
      "ii, 9\n",
      "ii, 10\n",
      "ii, 11\n",
      "ii, 12\n",
      "ii, 13\n",
      "i, 11\n",
      "ii, 4\n",
      "ii, 5\n",
      "ii, 6\n",
      "ii, 7\n",
      "ii, 8\n",
      "X: 11 8\n",
      "ii, 9\n",
      "ii, 10\n",
      "ii, 11\n",
      "ii, 12\n",
      "ii, 13\n",
      "i, 12\n",
      "ii, 4\n",
      "X: 12 4\n",
      "ii, 5\n",
      "ii, 6\n",
      "X: 12 6\n",
      "ii, 7\n",
      "ii, 8\n",
      "X: 12 8\n",
      "ii, 9\n",
      "ii, 10\n",
      "ii, 11\n",
      "ii, 12\n",
      "X: 12 12\n",
      "ii, 13\n",
      "i, 13\n"
     ]
    },
    {
     "data": {
      "text/plain": [
       "18"
      ]
     },
     "execution_count": 65,
     "metadata": {},
     "output_type": "execute_result"
    }
   ],
   "source": [
    "find_xmas(pad_grid(parse_input(filename)))"
   ]
  },
  {
   "cell_type": "code",
   "execution_count": null,
   "metadata": {},
   "outputs": [],
   "source": []
  }
 ],
 "metadata": {
  "kernelspec": {
   "display_name": "Python 3",
   "language": "python",
   "name": "python3"
  },
  "language_info": {
   "codemirror_mode": {
    "name": "ipython",
    "version": 3
   },
   "file_extension": ".py",
   "mimetype": "text/x-python",
   "name": "python",
   "nbconvert_exporter": "python",
   "pygments_lexer": "ipython3",
   "version": "3.8.5"
  }
 },
 "nbformat": 4,
 "nbformat_minor": 4
}
