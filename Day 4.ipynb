{
 "cells": [
  {
   "cell_type": "code",
   "execution_count": 83,
   "metadata": {},
   "outputs": [],
   "source": [
    "def parse_input(filename):\n",
    "    input_file = open(filename, \"r\")\n",
    "    input_list = input_file.readlines()\n",
    "    \n",
    "    output_list = []\n",
    "    for line in input_list:\n",
    "        output_list.append(line.replace(\"\\n\", \"\"))\n",
    "    \n",
    "    return output_list"
   ]
  },
  {
   "cell_type": "code",
   "execution_count": 84,
   "metadata": {},
   "outputs": [
    {
     "data": {
      "text/plain": [
       "['MMMSXXMASM',\n",
       " 'MSAMXMSMSA',\n",
       " 'AMXSXMAAMM',\n",
       " 'MSAMASMSMX',\n",
       " 'XMASAMXAMM',\n",
       " 'XXAMMXXAMA',\n",
       " 'SMSMSASXSS',\n",
       " 'SAXAMASAAA',\n",
       " 'MAMMMXMMMM',\n",
       " 'MXMXAXMASX']"
      ]
     },
     "execution_count": 84,
     "metadata": {},
     "output_type": "execute_result"
    }
   ],
   "source": [
    "filename = \"Day 4 Test Input.txt\"\n",
    "\n",
    "parse_input(filename)"
   ]
  },
  {
   "cell_type": "code",
   "execution_count": 85,
   "metadata": {},
   "outputs": [],
   "source": [
    "def pad_grid(input_list):\n",
    "    padded_grid = []\n",
    "    empty_row = \" \" * (len(input_list[0]) + 6)\n",
    "    \n",
    "    padded_grid.extend([empty_row, empty_row, empty_row])\n",
    "    for line in input_list:\n",
    "        padded_grid.append(\"   \" + line + \"   \")\n",
    "    padded_grid.extend([empty_row, empty_row, empty_row])\n",
    "    \n",
    "    return padded_grid"
   ]
  },
  {
   "cell_type": "code",
   "execution_count": 86,
   "metadata": {
    "scrolled": true
   },
   "outputs": [
    {
     "data": {
      "text/plain": [
       "['                ',\n",
       " '                ',\n",
       " '                ',\n",
       " '   MMMSXXMASM   ',\n",
       " '   MSAMXMSMSA   ',\n",
       " '   AMXSXMAAMM   ',\n",
       " '   MSAMASMSMX   ',\n",
       " '   XMASAMXAMM   ',\n",
       " '   XXAMMXXAMA   ',\n",
       " '   SMSMSASXSS   ',\n",
       " '   SAXAMASAAA   ',\n",
       " '   MAMMMXMMMM   ',\n",
       " '   MXMXAXMASX   ',\n",
       " '                ',\n",
       " '                ',\n",
       " '                ']"
      ]
     },
     "execution_count": 86,
     "metadata": {},
     "output_type": "execute_result"
    }
   ],
   "source": [
    "pad_grid(parse_input(filename))"
   ]
  },
  {
   "cell_type": "code",
   "execution_count": 87,
   "metadata": {},
   "outputs": [],
   "source": [
    "def find_x(input_list):\n",
    "    xmas_count = 0\n",
    "    \n",
    "    i = 3\n",
    "    while i < (len(input_list) - 3):\n",
    "        ii = 3\n",
    "        while ii < (len(input_list[i]) - 3):\n",
    "            if input_list[i][ii] == 'X':\n",
    "#                 print('X:', i, ii)\n",
    "                xmas_count += find_mas(i, ii, input_list)\n",
    "            ii += 1\n",
    "#             print('ii, ' + str(ii))\n",
    "        i += 1\n",
    "#         print('i, ' + str(i))\n",
    "    \n",
    "    return xmas_count"
   ]
  },
  {
   "cell_type": "code",
   "execution_count": 88,
   "metadata": {},
   "outputs": [],
   "source": [
    "def find_mas(i, ii, input_list):\n",
    "    mas_count = 0 # count for each X\n",
    "\n",
    "    if input_list[i - 1][ii - 1] == 'M' and input_list[i - 2][ii - 2] == 'A' and input_list[i - 3][ii - 3] == 'S':\n",
    "        mas_count += 1\n",
    "    if input_list[i + 1][ii + 1] == 'M' and input_list[i + 2][ii + 2] == 'A' and input_list[i + 3][ii + 3] == 'S':\n",
    "        mas_count += 1\n",
    "    if input_list[i - 1][ii + 1] == 'M' and input_list[i - 2][ii + 2] == 'A' and input_list[i - 3][ii + 3] == 'S':\n",
    "        mas_count += 1\n",
    "    if input_list[i + 1][ii - 1] == 'M' and input_list[i + 2][ii - 2] == 'A' and input_list[i + 3][ii - 3] == 'S':\n",
    "        mas_count += 1\n",
    "    if input_list[i - 1][ii] == 'M' and input_list[i - 2][ii] == 'A' and input_list[i - 3][ii] == 'S':\n",
    "        mas_count += 1\n",
    "    if input_list[i + 1][ii] == 'M' and input_list[i + 2][ii] == 'A' and input_list[i + 3][ii] == 'S':\n",
    "        mas_count += 1\n",
    "    if input_list[i][ii + 1] == 'M' and input_list[i][ii + 2] == 'A' and input_list[i][ii + 3] == 'S':\n",
    "        mas_count += 1\n",
    "    if input_list[i][ii - 1] == 'M' and input_list[i][ii - 2] == 'A' and input_list[i][ii - 3] == 'S':\n",
    "        mas_count += 1\n",
    "        \n",
    "    return mas_count"
   ]
  },
  {
   "cell_type": "markdown",
   "metadata": {},
   "source": [
    "# Part 1"
   ]
  },
  {
   "cell_type": "code",
   "execution_count": 89,
   "metadata": {},
   "outputs": [
    {
     "data": {
      "text/plain": [
       "18"
      ]
     },
     "execution_count": 89,
     "metadata": {},
     "output_type": "execute_result"
    }
   ],
   "source": [
    "find_x(pad_grid(parse_input(filename)))"
   ]
  },
  {
   "cell_type": "code",
   "execution_count": 90,
   "metadata": {},
   "outputs": [
    {
     "data": {
      "text/plain": [
       "2573"
      ]
     },
     "execution_count": 90,
     "metadata": {},
     "output_type": "execute_result"
    }
   ],
   "source": [
    "filename = \"Day 4 Input.txt\"\n",
    "\n",
    "find_x(pad_grid(parse_input(filename)))"
   ]
  },
  {
   "cell_type": "markdown",
   "metadata": {},
   "source": [
    "# Part 2"
   ]
  },
  {
   "cell_type": "code",
   "execution_count": 91,
   "metadata": {},
   "outputs": [],
   "source": [
    "def find_a(input_list):\n",
    "    xmas_count = 0\n",
    "    \n",
    "    i = 3\n",
    "    while i < (len(input_list) - 3):\n",
    "        ii = 3\n",
    "        while ii < (len(input_list[i]) - 3):\n",
    "            if input_list[i][ii] == 'A':\n",
    "                xmas_count += find_m_s(i, ii, input_list)\n",
    "            ii += 1\n",
    "        i += 1\n",
    "    \n",
    "    return xmas_count"
   ]
  },
  {
   "cell_type": "code",
   "execution_count": 77,
   "metadata": {},
   "outputs": [],
   "source": [
    "def find_m_s(i, ii, input_list):\n",
    "    xmas_count = 0\n",
    "    \n",
    "    if (input_list[i - 1][ii - 1] == 'M' and input_list[i + 1][ii + 1] == 'S') or (input_list[i - 1][ii - 1] == 'S' and input_list[i + 1][ii + 1] == 'M'):\n",
    "        if (input_list[i - 1][ii + 1] == 'M' and input_list[i + 1][ii - 1] == 'S') or (input_list[i - 1][ii + 1] == 'S' and input_list[i + 1][ii - 1] == 'M'):\n",
    "            xmas_count += 1\n",
    "            \n",
    "#     if (input_list[i - 1][ii] == 'M' and input_list[i + 1][ii] == 'S') or (input_list[i - 1][ii] == 'S' and input_list[i + 1][ii] == 'M'):\n",
    "#         if (input_list[i][ii - 1] == 'M' and input_list[i][ii + 1] == 'S') or (input_list[i][ii - 1] == 'S' and input_list[i][ii + 1] == 'M'):\n",
    "#             xmas_count += 1\n",
    "            \n",
    "    return xmas_count\n",
    "    "
   ]
  },
  {
   "cell_type": "code",
   "execution_count": 92,
   "metadata": {},
   "outputs": [
    {
     "data": {
      "text/plain": [
       "9"
      ]
     },
     "execution_count": 92,
     "metadata": {},
     "output_type": "execute_result"
    }
   ],
   "source": [
    "filename = \"Day 4 Test Input.txt\"\n",
    "\n",
    "find_a(pad_grid(parse_input(filename)))"
   ]
  },
  {
   "cell_type": "code",
   "execution_count": 93,
   "metadata": {},
   "outputs": [
    {
     "data": {
      "text/plain": [
       "1850"
      ]
     },
     "execution_count": 93,
     "metadata": {},
     "output_type": "execute_result"
    }
   ],
   "source": [
    "filename = \"Day 4 Input.txt\"\n",
    "\n",
    "find_a(pad_grid(parse_input(filename)))"
   ]
  },
  {
   "cell_type": "code",
   "execution_count": null,
   "metadata": {},
   "outputs": [],
   "source": []
  }
 ],
 "metadata": {
  "kernelspec": {
   "display_name": "Python 3",
   "language": "python",
   "name": "python3"
  },
  "language_info": {
   "codemirror_mode": {
    "name": "ipython",
    "version": 3
   },
   "file_extension": ".py",
   "mimetype": "text/x-python",
   "name": "python",
   "nbconvert_exporter": "python",
   "pygments_lexer": "ipython3",
   "version": "3.8.5"
  }
 },
 "nbformat": 4,
 "nbformat_minor": 4
}
